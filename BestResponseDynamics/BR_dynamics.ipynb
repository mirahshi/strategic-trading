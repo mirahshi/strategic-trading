{
 "cells": [
  {
   "cell_type": "code",
   "execution_count": 1,
   "id": "13acf68a",
   "metadata": {},
   "outputs": [],
   "source": [
    "from BR import best_respond, total_cost\n",
    "from plot import plot_strategies_instantaneous"
   ]
  },
  {
   "cell_type": "code",
   "execution_count": 2,
   "id": "244fc310",
   "metadata": {},
   "outputs": [],
   "source": [
    "def find_equilibrium(Va, Vb, ainitial, binitial, T, kappa, lower_limit, upper_limit, max_iter=50, print_iter=False):\n",
    "    \"\"\"\n",
    "    Best response dynamics. Finds (pure) Nash equilibrium if converges.\n",
    "\n",
    "    Args:\n",
    "        Va (int): Target volume for player A\n",
    "        Vb (int): Target volume for player B \n",
    "        ainitial (array-like): Initial trading schedule for player A\n",
    "        binitial (array-like): Initial trading schedule for player B\n",
    "        T (int): Number of time steps\n",
    "        kappa (float): Market impact parameter\n",
    "        lower_limit (int): Lower limit of shares that can be bought at each step\n",
    "        upper_limit (int): Upper limit of shares that can be bought at each step\n",
    "        max_iter (int, optional): Maximum number of iterations. Defaults to 50.\n",
    "        print_iter (bool, optional): Whether to print iteration details. Defaults to False.\n",
    "\n",
    "    Returns:\n",
    "        (if converges) tuple:\n",
    "            - a (array): Equilibrium trading schedule for player A \n",
    "            - b (array): Equilibrium trading schedule for player B\n",
    "    \"\"\"\n",
    "\n",
    "    a = ainitial\n",
    "    b = binitial\n",
    "\n",
    "    for iteration in range(max_iter):\n",
    "        if print_iter:\n",
    "            print(f\"iteration: {iteration} =================================\")\n",
    "\n",
    "        # track whether any strategy was updated\n",
    "        updated = False\n",
    "\n",
    "        a_BR = best_respond(Va, b, T, kappa, lower_limit, upper_limit) # A's best response to B's current strategy\n",
    "        if total_cost(a_BR, b, kappa) != total_cost(a, b, kappa): # only update strategy if cost changes (avoids tiebreaking issues)\n",
    "            if print_iter:\n",
    "                print(f\"A updated: a'_{iteration} = BR(b'_{iteration-1})\")\n",
    "            a = a_BR\n",
    "            updated = True\n",
    "        else:\n",
    "            if print_iter:\n",
    "                print(\"A did not update\")\n",
    "\n",
    "        cA = total_cost(a, b, kappa) # A's cost after update\n",
    "        cB = total_cost(b, a, kappa) # B's cost after update\n",
    "        if print_iter:\n",
    "            print(f\"costs: {cA}, {cB}\")\n",
    "\n",
    "        b_BR = best_respond(Vb, a, T, kappa, lower_limit, upper_limit) # B's best response to A's updated strategy\n",
    "        if total_cost(b_BR, a, kappa) != total_cost(b, a, kappa): # only update strategy if cost changes (avoids tiebreaking issues)\n",
    "            if print_iter:\n",
    "                print(f\"B updated: b'_{iteration} = BR(a'_{iteration})\")\n",
    "            b = b_BR\n",
    "            updated = True\n",
    "        else:\n",
    "            if print_iter:\n",
    "                print(\"B did not update\")\n",
    "\n",
    "        cA = total_cost(a, b, kappa) # A's cost after update\n",
    "        cB = total_cost(b, a, kappa) # B's cost after update\n",
    "        if print_iter:\n",
    "            print(f\"costs: {cA}, {cB}\")\n",
    "\n",
    "        # plot strategies\n",
    "        if print_iter:\n",
    "            print(f\"plotting: a'_{iteration} = BR(b'_{iteration-1}), b'_{iteration} = BR(a'_{iteration})\")\n",
    "            plot_strategies_instantaneous(a, b)\n",
    "\n",
    "        # converged if no updates occurred\n",
    "        if updated == False:\n",
    "            if print_iter:\n",
    "                print(\"converged\")\n",
    "            return a, b # return equilibrium pair\n",
    "\n",
    "    # return current strategies if not converged after max_iter iterations\n",
    "    print(\"reached maximum iterations without convergence\")\n",
    "    return a, b "
   ]
  },
  {
   "cell_type": "markdown",
   "id": "8ab6bb30",
   "metadata": {},
   "source": [
    "### Example of BR Dynamics"
   ]
  },
  {
   "cell_type": "code",
   "execution_count": 3,
   "id": "1e14f312",
   "metadata": {},
   "outputs": [
    {
     "name": "stdout",
     "output_type": "stream",
     "text": [
      "iteration: 0 =================================\n",
      "A updated: a'_0 = BR(b'_-1)\n",
      "costs: 233.0, 314.0\n",
      "B updated: b'_0 = BR(a'_0)\n",
      "costs: 285.0, 302.5\n",
      "plotting: a'_0 = BR(b'_-1), b'_0 = BR(a'_0)\n"
     ]
    },
    {
     "data": {
      "image/png": "[encoded data removed]",
      "text/plain": [
       "<Figure size 360x216 with 1 Axes>"
      ]
     },
     "metadata": {
      "needs_background": "light"
     },
     "output_type": "display_data"
    },
    {
     "name": "stdout",
     "output_type": "stream",
     "text": [
      "iteration: 1 =================================\n",
      "A updated: a'_1 = BR(b'_0)\n",
      "costs: 279.5, 278.0\n",
      "B updated: b'_1 = BR(a'_1)\n",
      "costs: 285.5, 275.0\n",
      "plotting: a'_1 = BR(b'_0), b'_1 = BR(a'_1)\n"
     ]
    },
    {
     "data": {
      "image/png": "[encoded data removed]",
      "text/plain": [
       "<Figure size 360x216 with 1 Axes>"
      ]
     },
     "metadata": {
      "needs_background": "light"
     },
     "output_type": "display_data"
    },
    {
     "name": "stdout",
     "output_type": "stream",
     "text": [
      "iteration: 2 =================================\n",
      "A updated: a'_2 = BR(b'_1)\n",
      "costs: 284.5, 282.0\n",
      "B updated: b'_2 = BR(a'_2)\n",
      "costs: 280.5, 281.5\n",
      "plotting: a'_2 = BR(b'_1), b'_2 = BR(a'_2)\n"
     ]
    },
    {
     "data": {
      "image/png": "[encoded data removed]",
      "text/plain": [
       "<Figure size 360x216 with 1 Axes>"
      ]
     },
     "metadata": {
      "needs_background": "light"
     },
     "output_type": "display_data"
    },
    {
     "name": "stdout",
     "output_type": "stream",
     "text": [
      "iteration: 3 =================================\n",
      "A updated: a'_3 = BR(b'_2)\n",
      "costs: 280.0, 285.0\n",
      "B did not update\n",
      "costs: 280.0, 285.0\n",
      "plotting: a'_3 = BR(b'_2), b'_3 = BR(a'_3)\n"
     ]
    },
    {
     "data": {
      "image/png": "[encoded data removed]",
      "text/plain": [
       "<Figure size 360x216 with 1 Axes>"
      ]
     },
     "metadata": {
      "needs_background": "light"
     },
     "output_type": "display_data"
    },
    {
     "name": "stdout",
     "output_type": "stream",
     "text": [
      "iteration: 4 =================================\n",
      "A did not update\n",
      "costs: 280.0, 285.0\n",
      "B did not update\n",
      "costs: 280.0, 285.0\n",
      "plotting: a'_4 = BR(b'_3), b'_4 = BR(a'_4)\n"
     ]
    },
    {
     "data": {
      "image/png": "[encoded data removed]",
      "text/plain": [
       "<Figure size 360x216 with 1 Axes>"
      ]
     },
     "metadata": {
      "needs_background": "light"
     },
     "output_type": "display_data"
    },
    {
     "name": "stdout",
     "output_type": "stream",
     "text": [
      "converged\n"
     ]
    }
   ],
   "source": [
    "# initialize parameters\n",
    "Va = 20  # shares to buy for A\n",
    "Vb = 20  # shares to buy for B\n",
    "T = 10   # number of time steps\n",
    "lower_limit = -20\n",
    "upper_limit = 20\n",
    "\n",
    "kappa = 0.5 # relative multiplier on permanent impact\n",
    "\n",
    "# initialize uniform strategies\n",
    "anow = [Va/T] * T\n",
    "bnow = [Vb/T] * T\n",
    "\n",
    "# run best response dynamics\n",
    "a, b = find_equilibrium(Va, Vb, anow, bnow, T, kappa, lower_limit, upper_limit, max_iter=50, print_iter=True)"
   ]
  }
 ],
 "metadata": {
  "kernelspec": {
   "display_name": "base",
   "language": "python",
   "name": "python3"
  },
  "language_info": {
   "codemirror_mode": {
    "name": "ipython",
    "version": 3
   },
   "file_extension": ".py",
   "mimetype": "text/x-python",
   "name": "python",
   "nbconvert_exporter": "python",
   "pygments_lexer": "ipython3",
   "version": "3.7.6"
  }
 },
 "nbformat": 4,
 "nbformat_minor": 5
}
